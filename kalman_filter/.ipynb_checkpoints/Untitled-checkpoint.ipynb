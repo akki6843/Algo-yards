{
 "cells": [
  {
   "cell_type": "code",
   "execution_count": 28,
   "metadata": {},
   "outputs": [
    {
     "name": "stdout",
     "output_type": "stream",
     "text": [
      "Writing imports.py\n"
     ]
    }
   ],
   "source": [
    "%%writefile imports.py\n",
    "import matplotlib as plt \n",
    "from math import *\n",
    "import numpy as np \n",
    "import pandas as pd\n",
    "from IPython.core.interactiveshell import InteractiveShell\n",
    "InteractiveShell.ast_node_interactivity = \"all\"\n",
    "from IPython.display import display, Math, Latex\n"
   ]
  },
  {
   "cell_type": "code",
   "execution_count": 29,
   "metadata": {},
   "outputs": [],
   "source": [
    "#Gaussian Function"
   ]
  },
  {
   "cell_type": "code",
   "execution_count": 27,
   "metadata": {},
   "outputs": [
    {
     "data": {
      "text/latex": [
       "$$F(x) =\\frac{1}{{\\sigma \\sqrt {2\\pi } }}e^{{ - \\left( {x - \\mu } \\right)^2}/{2\\sigma^2} }$$\n"
      ],
      "text/plain": [
       "<IPython.core.display.Latex object>"
      ]
     },
     "metadata": {},
     "output_type": "display_data"
    }
   ],
   "source": [
    "%%latex\n",
    "$$F(x) =\\frac{1}{{\\sigma \\sqrt {2\\pi } }}e^{{ - \\left( {x - \\mu } \\right)^2}/{2\\sigma^2} }$$"
   ]
  },
  {
   "cell_type": "code",
   "execution_count": 30,
   "metadata": {},
   "outputs": [
    {
     "name": "stdout",
     "output_type": "stream",
     "text": [
      "Writing gaussian.py\n"
     ]
    }
   ],
   "source": [
    "%%writefile gaussian.py\n",
    "\n",
    "def gaussian_function(mean,variance,variable):\n",
    "     return 1.0 / sqrt(2.0 * pi *variance)*exp(-0.5 * (variable-mean) ** 2 / variance)"
   ]
  },
  {
   "cell_type": "code",
   "execution_count": null,
   "metadata": {},
   "outputs": [],
   "source": [
    "# %load gaussian.py\n",
    "\n",
    "def gaussian_function(mean,variance,variable):\n",
    "     return 1.0 / sqrt(2.0 * pi *variance)*exp(-0.5 * (variable-mean) ** 2 / variance)\n"
   ]
  }
 ],
 "metadata": {
  "kernelspec": {
   "display_name": "Python 3",
   "language": "python",
   "name": "python3"
  },
  "language_info": {
   "codemirror_mode": {
    "name": "ipython",
    "version": 3
   },
   "file_extension": ".py",
   "mimetype": "text/x-python",
   "name": "python",
   "nbconvert_exporter": "python",
   "pygments_lexer": "ipython3",
   "version": "3.5.2"
  },
  "widgets": {
   "state": {},
   "version": "1.1.2"
  }
 },
 "nbformat": 4,
 "nbformat_minor": 2
}
