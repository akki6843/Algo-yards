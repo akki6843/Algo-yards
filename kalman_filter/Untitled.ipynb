{
 "cells": [
  {
   "cell_type": "code",
   "execution_count": null,
   "metadata": {},
   "outputs": [],
   "source": []
  },
  {
   "cell_type": "code",
   "execution_count": 87,
   "metadata": {},
   "outputs": [],
   "source": [
    "import matplotlib.pyplot as plt \n",
    "from math import *\n",
    "import numpy as np \n",
    "import pandas as pd\n",
    "from IPython.core.interactiveshell import InteractiveShell\n",
    "InteractiveShell.ast_node_interactivity = \"all\"\n",
    "from IPython.display import display, Math, Latex\n"
   ]
  },
  {
   "cell_type": "code",
   "execution_count": 88,
   "metadata": {},
   "outputs": [],
   "source": [
    "#Gaussian Function"
   ]
  },
  {
   "cell_type": "code",
   "execution_count": 89,
   "metadata": {},
   "outputs": [
    {
     "data": {
      "text/latex": [
       "$$F(x) =\\frac{1}{{\\sigma \\sqrt {2\\pi } }}e^{{ - \\left( {x - \\mu } \\right)^2}/{2\\sigma^2} }$$\n"
      ],
      "text/plain": [
       "<IPython.core.display.Latex object>"
      ]
     },
     "metadata": {},
     "output_type": "display_data"
    }
   ],
   "source": [
    "%%latex\n",
    "$$F(x) =\\frac{1}{{\\sigma \\sqrt {2\\pi } }}e^{{ - \\left( {x - \\mu } \\right)^2}/{2\\sigma^2} }$$"
   ]
  },
  {
   "cell_type": "code",
   "execution_count": 90,
   "metadata": {},
   "outputs": [
    {
     "name": "stdout",
     "output_type": "stream",
     "text": [
      "Overwriting gaussian.py\n"
     ]
    }
   ],
   "source": [
    "%%writefile gaussian.py\n",
    "\n",
    "def gaussian_function(mean,variance,variable):\n",
    "     return 1.0 / sqrt(2.0 * pi *variance)*exp(-0.5 * (variable-mean) ** 2 / variance)"
   ]
  },
  {
   "cell_type": "code",
   "execution_count": 91,
   "metadata": {},
   "outputs": [],
   "source": [
    "# %load gaussian.py\n",
    "\n",
    "def gaussian_function(mean,variance,variable):\n",
    "     return 1.0 / sqrt(2.0 * pi *variance)*exp(-0.5 * (variable-mean) ** 2 / variance)\n"
   ]
  },
  {
   "cell_type": "code",
   "execution_count": 94,
   "metadata": {},
   "outputs": [],
   "source": [
    "def update(mean1, variance1, mean2, variance2):\n",
    "    \n",
    "    update_mean = (variance2*mean1 + variance1*mean2)/(variance2+variance1)\n",
    "    update_variance = 1/(1/variance2 + 1/variance1)\n",
    "    \n",
    "    return [update_mean, update_variance]\n",
    "\n",
    "\n",
    "def predict(mean1, variance1, mean2, variance2):\n",
    "    \n",
    "    predict_mean = mean1 + mean2\n",
    "    predict_variance = variance1 + variance2\n",
    "    \n",
    "    return [predict_mean, predict_variance]"
   ]
  },
  {
   "cell_type": "code",
   "execution_count": 85,
   "metadata": {},
   "outputs": [
    {
     "name": "stdout",
     "output_type": "stream",
     "text": [
      "Update: [4.998000799680128, 3.9984006397441023]\n",
      "Predict: [5.998000799680128, 5.998400639744102]\n",
      "Update: [5.999200191953932, 2.399744061425258]\n",
      "Predict: [6.999200191953932, 4.399744061425258]\n",
      "Update: [6.999619127420922, 2.0951800575117594]\n",
      "Predict: [8.999619127420921, 4.09518005751176]\n",
      "Update: [8.999811802788143, 2.0235152416216957]\n",
      "Predict: [9.999811802788143, 4.023515241621696]\n",
      "Update: [9.999906177177365, 2.0058615808441944]\n",
      "Predict: [10.999906177177365, 4.005861580844194]\n"
     ]
    }
   ],
   "source": [
    "measurements = [5., 6., 7., 9., 10.]\n",
    "motions = [1., 1., 2., 1., 1.]\n",
    "\n",
    "measurement_variance = 4.\n",
    "motion_variance = 2.\n",
    "mean = 0.\n",
    "variance = 10000.\n",
    "\n",
    "\n",
    "for n in range(len(measurements)):\n",
    "    mean,variance = update(mean, variance, measurements[n], measurement_variance)\n",
    "    print('Update: [{}, {}]'.format(mean, variance))\n",
    "    # motion update, with uncertainty\n",
    "    mean, variance = predict(mean, variance, motions[n], motion_variance)\n",
    "    print('Predict: [{}, {}]'.format(mean, variance))\n",
    "\n",
    "    "
   ]
  },
  {
   "cell_type": "code",
   "execution_count": 95,
   "metadata": {},
   "outputs": [
    {
     "data": {
      "text/plain": [
       "[<matplotlib.lines.Line2D at 0x7f29c99a3e48>]"
      ]
     },
     "execution_count": 95,
     "metadata": {},
     "output_type": "execute_result"
    },
    {
     "data": {
      "image/png": "[encoded data removed]",
      "text/plain": [
       "<matplotlib.figure.Figure at 0x7f29c8ade048>"
      ]
     },
     "metadata": {
      "needs_background": "light"
     },
     "output_type": "display_data"
    }
   ],
   "source": [
    "final_mean = mean \n",
    "final_variance = variance \n",
    "variables = np.arange(-20,20,1)\n",
    "\n",
    "gaussian_values=[]\n",
    "\n",
    "for x in variables:\n",
    "    gaussian_values.append(gaussian_function(final_mean,final_variance,x))\n",
    "    \n",
    "    \n",
    "plt.plot(variables, gaussian_values)    "
   ]
  },
  {
   "cell_type": "code",
   "execution_count": null,
   "metadata": {},
   "outputs": [],
   "source": []
  },
  {
   "cell_type": "code",
   "execution_count": null,
   "metadata": {},
   "outputs": [],
   "source": []
  }
 ],
 "metadata": {
  "kernelspec": {
   "display_name": "Python 3",
   "language": "python",
   "name": "python3"
  },
  "language_info": {
   "codemirror_mode": {
    "name": "ipython",
    "version": 3
   },
   "file_extension": ".py",
   "mimetype": "text/x-python",
   "name": "python",
   "nbconvert_exporter": "python",
   "pygments_lexer": "ipython3",
   "version": "3.5.2"
  },
  "widgets": {
   "state": {},
   "version": "1.1.2"
  }
 },
 "nbformat": 4,
 "nbformat_minor": 2
}
